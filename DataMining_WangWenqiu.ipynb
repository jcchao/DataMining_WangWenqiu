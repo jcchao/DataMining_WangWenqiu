{
 "cells": [
  {
   "cell_type": "code",
   "execution_count": 1,
   "metadata": {},
   "outputs": [],
   "source": [
    "%matplotlib inline\n",
    "import pandas as pd\n",
    "from sklearn.model_selection import train_test_split\n",
    "from sklearn.tree import DecisionTreeClassifier\n",
    "from sklearn.naive_bayes import CategoricalNB\n",
    "from sklearn.metrics import confusion_matrix\n",
    "from sklearn import tree"
   ]
  },
  {
   "cell_type": "code",
   "execution_count": 2,
   "metadata": {},
   "outputs": [],
   "source": [
    "category_features = ['school', 'sex', 'address', 'famsize', 'Pstatus', 'Mjob', 'Fjob', 'reason', 'guardian', 'schoolsup',\n",
    "                    'famsup', 'paid', 'activities', 'nursery', 'higher', 'internet', 'romantic']\n",
    "numeric_features = ['age', 'Medu', 'Fedu', 'traveltime', 'studytime', 'failures', 'absences', 'famrel', 'freetime',\n",
    "                    'goout', 'Dalc', 'Walc', 'health']\n",
    "grade = ['G1', 'G2']\n",
    "final_grade = 'G3'"
   ]
  },
  {
   "cell_type": "code",
   "execution_count": 3,
   "metadata": {},
   "outputs": [],
   "source": [
    "data_df = pd.read_csv('./data/student-mat.csv')\n",
    "# convert category feature to numeric feature\n",
    "for column_name in category_features:\n",
    "    data_df[column_name] = data_df[column_name].astype('category').cat.codes"
   ]
  },
  {
   "cell_type": "markdown",
   "metadata": {},
   "source": [
    "# Decision Tree"
   ]
  },
  {
   "cell_type": "markdown",
   "metadata": {},
   "source": [
    "## Binary Classification"
   ]
  },
  {
   "cell_type": "code",
   "execution_count": 4,
   "metadata": {},
   "outputs": [
    {
     "name": "stdout",
     "output_type": "stream",
     "text": [
      "pass    265\n",
      "fail    130\n",
      "Name: PassOrFail, dtype: int64\n"
     ]
    },
    {
     "data": {
      "text/plain": [
       "<matplotlib.axes._subplots.AxesSubplot at 0x7f9b43814e50>"
      ]
     },
     "execution_count": 4,
     "metadata": {},
     "output_type": "execute_result"
    },
    {
     "data": {
      "image/png": "[encoded data removed]",
      "text/plain": [
       "<Figure size 720x360 with 1 Axes>"
      ]
     },
     "metadata": {
      "needs_background": "light"
     },
     "output_type": "display_data"
    }
   ],
   "source": [
    "# binary classification label\n",
    "data_df['PassOrFail'] = data_df['G3'].map(lambda x: \"pass\" if x >= 10 else \"fail\")\n",
    "print(data_df['PassOrFail'].value_counts())\n",
    "data_df['PassOrFail'].value_counts().plot(kind='bar', figsize=(10,5))"
   ]
  },
  {
   "cell_type": "code",
   "execution_count": 5,
   "metadata": {},
   "outputs": [
    {
     "data": {
      "text/plain": [
       "array([[33,  6],\n",
       "       [ 9, 71]])"
      ]
     },
     "execution_count": 5,
     "metadata": {},
     "output_type": "execute_result"
    }
   ],
   "source": [
    "# split data to train and test data\n",
    "X_train, X_test, Y_train, Y_test = train_test_split(data_df[category_features + numeric_features + grade].values,\n",
    "                                                    data_df['PassOrFail'].astype('category').cat.codes,\n",
    "                                                    test_size=0.3,\n",
    "                                                    random_state=2)\n",
    "decision_tree = DecisionTreeClassifier().fit(X_train, Y_train)\n",
    "Y_pred = decision_tree.predict(X_test)\n",
    "confusion_matrix(Y_test, Y_pred)"
   ]
  },
  {
   "cell_type": "code",
   "execution_count": 6,
   "metadata": {},
   "outputs": [
    {
     "data": {
      "text/plain": [
       "[Text(184.14000000000001, 207.55636363636364, 'X[31] <= 9.5\\ngini = 0.442\\nsamples = 276\\nvalue = [91, 185]'),\n",
       " Text(100.44000000000001, 187.7890909090909, 'X[31] <= 7.5\\ngini = 0.257\\nsamples = 99\\nvalue = [84, 15]'),\n",
       " Text(83.70000000000002, 168.0218181818182, 'gini = 0.0\\nsamples = 47\\nvalue = [47, 0]'),\n",
       " Text(117.18, 168.0218181818182, 'X[30] <= 7.5\\ngini = 0.411\\nsamples = 52\\nvalue = [37, 15]'),\n",
       " Text(100.44000000000001, 148.25454545454545, 'gini = 0.0\\nsamples = 11\\nvalue = [11, 0]'),\n",
       " Text(133.92000000000002, 148.25454545454545, 'X[29] <= 4.5\\ngini = 0.464\\nsamples = 41\\nvalue = [26, 15]'),\n",
       " Text(100.44000000000001, 128.48727272727274, 'X[16] <= 0.5\\ngini = 0.391\\nsamples = 30\\nvalue = [22, 8]'),\n",
       " Text(83.70000000000002, 108.72, 'X[18] <= 3.5\\ngini = 0.472\\nsamples = 21\\nvalue = [13, 8]'),\n",
       " Text(66.96000000000001, 88.95272727272729, 'X[7] <= 0.5\\ngini = 0.5\\nsamples = 16\\nvalue = [8, 8]'),\n",
       " Text(33.480000000000004, 69.18545454545455, 'X[8] <= 0.5\\ngini = 0.346\\nsamples = 9\\nvalue = [7, 2]'),\n",
       " Text(16.740000000000002, 49.418181818181836, 'gini = 0.0\\nsamples = 1\\nvalue = [0, 1]'),\n",
       " Text(50.220000000000006, 49.418181818181836, 'X[23] <= 3.5\\ngini = 0.219\\nsamples = 8\\nvalue = [7, 1]'),\n",
       " Text(33.480000000000004, 29.650909090909096, 'gini = 0.0\\nsamples = 6\\nvalue = [6, 0]'),\n",
       " Text(66.96000000000001, 29.650909090909096, 'X[4] <= 0.5\\ngini = 0.5\\nsamples = 2\\nvalue = [1, 1]'),\n",
       " Text(50.220000000000006, 9.883636363636384, 'gini = 0.0\\nsamples = 1\\nvalue = [1, 0]'),\n",
       " Text(83.70000000000002, 9.883636363636384, 'gini = 0.0\\nsamples = 1\\nvalue = [0, 1]'),\n",
       " Text(100.44000000000001, 69.18545454545455, 'X[13] <= 0.5\\ngini = 0.245\\nsamples = 7\\nvalue = [1, 6]'),\n",
       " Text(83.70000000000002, 49.418181818181836, 'gini = 0.0\\nsamples = 1\\nvalue = [1, 0]'),\n",
       " Text(117.18, 49.418181818181836, 'gini = 0.0\\nsamples = 6\\nvalue = [0, 6]'),\n",
       " Text(100.44000000000001, 88.95272727272729, 'gini = 0.0\\nsamples = 5\\nvalue = [5, 0]'),\n",
       " Text(117.18, 108.72, 'gini = 0.0\\nsamples = 9\\nvalue = [9, 0]'),\n",
       " Text(167.40000000000003, 128.48727272727274, 'X[0] <= 0.5\\ngini = 0.463\\nsamples = 11\\nvalue = [4, 7]'),\n",
       " Text(150.66000000000003, 108.72, 'X[23] <= 7.0\\ngini = 0.219\\nsamples = 8\\nvalue = [1, 7]'),\n",
       " Text(133.92000000000002, 88.95272727272729, 'gini = 0.0\\nsamples = 7\\nvalue = [0, 7]'),\n",
       " Text(167.40000000000003, 88.95272727272729, 'gini = 0.0\\nsamples = 1\\nvalue = [1, 0]'),\n",
       " Text(184.14000000000001, 108.72, 'gini = 0.0\\nsamples = 3\\nvalue = [3, 0]'),\n",
       " Text(267.84000000000003, 187.7890909090909, 'X[31] <= 10.5\\ngini = 0.076\\nsamples = 177\\nvalue = [7, 170]'),\n",
       " Text(251.10000000000002, 168.0218181818182, 'X[29] <= 4.5\\ngini = 0.334\\nsamples = 33\\nvalue = [7, 26]'),\n",
       " Text(217.62000000000003, 148.25454545454545, 'X[6] <= 2.5\\ngini = 0.204\\nsamples = 26\\nvalue = [3, 23]'),\n",
       " Text(200.88000000000002, 128.48727272727274, 'gini = 0.0\\nsamples = 19\\nvalue = [0, 19]'),\n",
       " Text(234.36, 128.48727272727274, 'X[20] <= 1.5\\ngini = 0.49\\nsamples = 7\\nvalue = [3, 4]'),\n",
       " Text(217.62000000000003, 108.72, 'X[26] <= 3.5\\ngini = 0.375\\nsamples = 4\\nvalue = [3, 1]'),\n",
       " Text(200.88000000000002, 88.95272727272729, 'gini = 0.0\\nsamples = 3\\nvalue = [3, 0]'),\n",
       " Text(234.36, 88.95272727272729, 'gini = 0.0\\nsamples = 1\\nvalue = [0, 1]'),\n",
       " Text(251.10000000000002, 108.72, 'gini = 0.0\\nsamples = 3\\nvalue = [0, 3]'),\n",
       " Text(284.58000000000004, 148.25454545454545, 'X[7] <= 0.5\\ngini = 0.49\\nsamples = 7\\nvalue = [4, 3]'),\n",
       " Text(267.84000000000003, 128.48727272727274, 'gini = 0.0\\nsamples = 3\\nvalue = [3, 0]'),\n",
       " Text(301.32000000000005, 128.48727272727274, 'X[23] <= 3.0\\ngini = 0.375\\nsamples = 4\\nvalue = [1, 3]'),\n",
       " Text(284.58000000000004, 108.72, 'gini = 0.0\\nsamples = 1\\nvalue = [1, 0]'),\n",
       " Text(318.06000000000006, 108.72, 'gini = 0.0\\nsamples = 3\\nvalue = [0, 3]'),\n",
       " Text(284.58000000000004, 168.0218181818182, 'gini = 0.0\\nsamples = 144\\nvalue = [0, 144]')]"
      ]
     },
     "execution_count": 6,
     "metadata": {},
     "output_type": "execute_result"
    },
    {
     "data": {
      "image/png": "[encoded data removed]",
      "text/plain": [
       "<Figure size 432x288 with 1 Axes>"
      ]
     },
     "metadata": {
      "needs_background": "light"
     },
     "output_type": "display_data"
    }
   ],
   "source": [
    "tree.plot_tree(decision_tree)"
   ]
  },
  {
   "cell_type": "markdown",
   "metadata": {},
   "source": [
    "## Five-Level Classification"
   ]
  },
  {
   "cell_type": "code",
   "execution_count": 7,
   "metadata": {},
   "outputs": [
    {
     "data": {
      "text/plain": [
       "<matplotlib.axes._subplots.AxesSubplot at 0x7f9b43a817f0>"
      ]
     },
     "execution_count": 7,
     "metadata": {},
     "output_type": "execute_result"
    },
    {
     "data": {
      "image/png": "[encoded data removed]",
      "text/plain": [
       "<Figure size 720x360 with 1 Axes>"
      ]
     },
     "metadata": {
      "needs_background": "light"
     },
     "output_type": "display_data"
    }
   ],
   "source": [
    "# five-level classification label\n",
    "def grade_level(x):\n",
    "    if 16 <= x <= 20:\n",
    "        return \"I\"\n",
    "    elif 14 <= x <=15:\n",
    "        return \"II\"\n",
    "    elif 12 <= x <= 13:\n",
    "        return \"III\"\n",
    "    elif 10 <= x <= 11:\n",
    "        return \"IV\"\n",
    "    else:\n",
    "        return \"V\"\n",
    "data_df['GradeLevel'] = data_df['G3'].map(grade_level)\n",
    "data_df['GradeLevel'].value_counts().plot(kind='bar', figsize=(10, 5))"
   ]
  },
  {
   "cell_type": "code",
   "execution_count": 8,
   "metadata": {},
   "outputs": [
    {
     "data": {
      "text/plain": [
       "array([[ 6,  4,  1,  0,  0],\n",
       "       [ 3,  9,  1,  0,  0],\n",
       "       [ 0,  3,  9,  7,  0],\n",
       "       [ 0,  1,  6, 16, 14],\n",
       "       [ 0,  0,  0,  4, 35]])"
      ]
     },
     "execution_count": 8,
     "metadata": {},
     "output_type": "execute_result"
    }
   ],
   "source": [
    "# split data to train and test data\n",
    "X_train, X_test, Y_train, Y_test = train_test_split(data_df[category_features + numeric_features + grade].values,\n",
    "                                                    data_df['GradeLevel'].astype('category').cat.codes,\n",
    "                                                    test_size=0.3,\n",
    "                                                    random_state=2)\n",
    "decision_tree = DecisionTreeClassifier().fit(X_train, Y_train)\n",
    "Y_pred = decision_tree.predict(X_test)\n",
    "confusion_matrix(Y_test, Y_pred)"
   ]
  },
  {
   "cell_type": "code",
   "execution_count": 9,
   "metadata": {},
   "outputs": [
    {
     "data": {
      "text/plain": [
       "[Text(122.80573770491803, 209.07692307692307, 'X[31] <= 9.5\\ngini = 0.77\\nsamples = 276\\nvalue = [29, 47, 43, 66, 91]'),\n",
       " Text(32.93114754098361, 192.35076923076923, 'X[31] <= 7.5\\ngini = 0.257\\nsamples = 99\\nvalue = [0, 0, 0, 15, 84]'),\n",
       " Text(27.442622950819672, 175.62461538461537, 'gini = 0.0\\nsamples = 47\\nvalue = [0, 0, 0, 0, 47]'),\n",
       " Text(38.41967213114754, 175.62461538461537, 'X[30] <= 7.5\\ngini = 0.411\\nsamples = 52\\nvalue = [0, 0, 0, 15, 37]'),\n",
       " Text(32.93114754098361, 158.89846153846153, 'gini = 0.0\\nsamples = 11\\nvalue = [0, 0, 0, 0, 11]'),\n",
       " Text(43.90819672131148, 158.89846153846153, 'X[29] <= 4.5\\ngini = 0.464\\nsamples = 41\\nvalue = [0, 0, 0, 15, 26]'),\n",
       " Text(32.93114754098361, 142.1723076923077, 'X[16] <= 0.5\\ngini = 0.391\\nsamples = 30\\nvalue = [0, 0, 0, 8, 22]'),\n",
       " Text(27.442622950819672, 125.44615384615385, 'X[18] <= 3.5\\ngini = 0.472\\nsamples = 21\\nvalue = [0, 0, 0, 8, 13]'),\n",
       " Text(21.95409836065574, 108.72, 'X[7] <= 0.5\\ngini = 0.5\\nsamples = 16\\nvalue = [0, 0, 0, 8, 8]'),\n",
       " Text(10.97704918032787, 91.99384615384615, 'X[8] <= 0.5\\ngini = 0.346\\nsamples = 9\\nvalue = [0, 0, 0, 2, 7]'),\n",
       " Text(5.488524590163935, 75.2676923076923, 'gini = 0.0\\nsamples = 1\\nvalue = [0, 0, 0, 1, 0]'),\n",
       " Text(16.465573770491805, 75.2676923076923, 'X[23] <= 3.5\\ngini = 0.219\\nsamples = 8\\nvalue = [0, 0, 0, 1, 7]'),\n",
       " Text(10.97704918032787, 58.541538461538465, 'gini = 0.0\\nsamples = 6\\nvalue = [0, 0, 0, 0, 6]'),\n",
       " Text(21.95409836065574, 58.541538461538465, 'X[24] <= 4.5\\ngini = 0.5\\nsamples = 2\\nvalue = [0, 0, 0, 1, 1]'),\n",
       " Text(16.465573770491805, 41.81538461538463, 'gini = 0.0\\nsamples = 1\\nvalue = [0, 0, 0, 1, 0]'),\n",
       " Text(27.442622950819672, 41.81538461538463, 'gini = 0.0\\nsamples = 1\\nvalue = [0, 0, 0, 0, 1]'),\n",
       " Text(32.93114754098361, 91.99384615384615, 'X[25] <= 2.5\\ngini = 0.245\\nsamples = 7\\nvalue = [0, 0, 0, 6, 1]'),\n",
       " Text(27.442622950819672, 75.2676923076923, 'gini = 0.0\\nsamples = 1\\nvalue = [0, 0, 0, 0, 1]'),\n",
       " Text(38.41967213114754, 75.2676923076923, 'gini = 0.0\\nsamples = 6\\nvalue = [0, 0, 0, 6, 0]'),\n",
       " Text(32.93114754098361, 108.72, 'gini = 0.0\\nsamples = 5\\nvalue = [0, 0, 0, 0, 5]'),\n",
       " Text(38.41967213114754, 125.44615384615385, 'gini = 0.0\\nsamples = 9\\nvalue = [0, 0, 0, 0, 9]'),\n",
       " Text(54.885245901639344, 142.1723076923077, 'X[17] <= 17.5\\ngini = 0.463\\nsamples = 11\\nvalue = [0, 0, 0, 7, 4]'),\n",
       " Text(49.39672131147541, 125.44615384615385, 'X[23] <= 7.0\\ngini = 0.219\\nsamples = 8\\nvalue = [0, 0, 0, 7, 1]'),\n",
       " Text(43.90819672131148, 108.72, 'gini = 0.0\\nsamples = 7\\nvalue = [0, 0, 0, 7, 0]'),\n",
       " Text(54.885245901639344, 108.72, 'gini = 0.0\\nsamples = 1\\nvalue = [0, 0, 0, 0, 1]'),\n",
       " Text(60.37377049180328, 125.44615384615385, 'gini = 0.0\\nsamples = 3\\nvalue = [0, 0, 0, 0, 3]'),\n",
       " Text(212.68032786885246, 192.35076923076923, 'X[31] <= 12.5\\ngini = 0.759\\nsamples = 177\\nvalue = [29, 47, 43, 51, 7]'),\n",
       " Text(144.0737704918033, 175.62461538461537, 'X[31] <= 11.5\\ngini = 0.533\\nsamples = 82\\nvalue = [0, 2, 22, 51, 7]'),\n",
       " Text(107.02622950819672, 158.89846153846153, 'X[7] <= 0.5\\ngini = 0.406\\nsamples = 56\\nvalue = [0, 0, 7, 42, 7]'),\n",
       " Text(82.32786885245902, 142.1723076923077, 'X[23] <= 8.5\\ngini = 0.571\\nsamples = 23\\nvalue = [0, 0, 7, 13, 3]'),\n",
       " Text(71.35081967213115, 125.44615384615385, 'X[3] <= 0.5\\ngini = 0.443\\nsamples = 17\\nvalue = [0, 0, 4, 12, 1]'),\n",
       " Text(65.86229508196722, 108.72, 'X[9] <= 0.5\\ngini = 0.338\\nsamples = 15\\nvalue = [0, 0, 2, 12, 1]'),\n",
       " Text(60.37377049180328, 91.99384615384615, 'X[23] <= 1.0\\ngini = 0.255\\nsamples = 14\\nvalue = [0, 0, 1, 12, 1]'),\n",
       " Text(54.885245901639344, 75.2676923076923, 'X[24] <= 4.5\\ngini = 0.56\\nsamples = 5\\nvalue = [0, 0, 1, 3, 1]'),\n",
       " Text(49.39672131147541, 58.541538461538465, 'X[25] <= 2.5\\ngini = 0.375\\nsamples = 4\\nvalue = [0, 0, 1, 3, 0]'),\n",
       " Text(43.90819672131148, 41.81538461538463, 'gini = 0.0\\nsamples = 1\\nvalue = [0, 0, 1, 0, 0]'),\n",
       " Text(54.885245901639344, 41.81538461538463, 'gini = 0.0\\nsamples = 3\\nvalue = [0, 0, 0, 3, 0]'),\n",
       " Text(60.37377049180328, 58.541538461538465, 'gini = 0.0\\nsamples = 1\\nvalue = [0, 0, 0, 0, 1]'),\n",
       " Text(65.86229508196722, 75.2676923076923, 'gini = 0.0\\nsamples = 9\\nvalue = [0, 0, 0, 9, 0]'),\n",
       " Text(71.35081967213115, 91.99384615384615, 'gini = 0.0\\nsamples = 1\\nvalue = [0, 0, 1, 0, 0]'),\n",
       " Text(76.83934426229509, 108.72, 'gini = 0.0\\nsamples = 2\\nvalue = [0, 0, 2, 0, 0]'),\n",
       " Text(93.30491803278689, 125.44615384615385, 'X[30] <= 11.0\\ngini = 0.611\\nsamples = 6\\nvalue = [0, 0, 3, 1, 2]'),\n",
       " Text(87.81639344262295, 108.72, 'gini = 0.0\\nsamples = 2\\nvalue = [0, 0, 0, 0, 2]'),\n",
       " Text(98.79344262295082, 108.72, 'X[8] <= 0.5\\ngini = 0.375\\nsamples = 4\\nvalue = [0, 0, 3, 1, 0]'),\n",
       " Text(93.30491803278689, 91.99384615384615, 'gini = 0.0\\nsamples = 1\\nvalue = [0, 0, 0, 1, 0]'),\n",
       " Text(104.28196721311475, 91.99384615384615, 'gini = 0.0\\nsamples = 3\\nvalue = [0, 0, 3, 0, 0]'),\n",
       " Text(131.72459016393444, 142.1723076923077, 'X[23] <= 5.0\\ngini = 0.213\\nsamples = 33\\nvalue = [0, 0, 0, 29, 4]'),\n",
       " Text(126.23606557377049, 125.44615384615385, 'X[20] <= 1.5\\ngini = 0.346\\nsamples = 18\\nvalue = [0, 0, 0, 14, 4]'),\n",
       " Text(120.74754098360656, 108.72, 'X[19] <= 2.5\\ngini = 0.48\\nsamples = 10\\nvalue = [0, 0, 0, 6, 4]'),\n",
       " Text(115.25901639344262, 91.99384615384615, 'gini = 0.0\\nsamples = 3\\nvalue = [0, 0, 0, 0, 3]'),\n",
       " Text(126.23606557377049, 91.99384615384615, 'X[17] <= 17.0\\ngini = 0.245\\nsamples = 7\\nvalue = [0, 0, 0, 6, 1]'),\n",
       " Text(120.74754098360656, 75.2676923076923, 'gini = 0.0\\nsamples = 6\\nvalue = [0, 0, 0, 6, 0]'),\n",
       " Text(131.72459016393444, 75.2676923076923, 'gini = 0.0\\nsamples = 1\\nvalue = [0, 0, 0, 0, 1]'),\n",
       " Text(131.72459016393444, 108.72, 'gini = 0.0\\nsamples = 8\\nvalue = [0, 0, 0, 8, 0]'),\n",
       " Text(137.21311475409837, 125.44615384615385, 'gini = 0.0\\nsamples = 15\\nvalue = [0, 0, 0, 15, 0]'),\n",
       " Text(181.12131147540984, 158.89846153846153, 'X[7] <= 2.5\\ngini = 0.541\\nsamples = 26\\nvalue = [0, 2, 15, 9, 0]'),\n",
       " Text(164.65573770491804, 142.1723076923077, 'X[16] <= 0.5\\ngini = 0.5\\nsamples = 18\\nvalue = [0, 0, 9, 9, 0]'),\n",
       " Text(148.19016393442624, 125.44615384615385, 'X[29] <= 2.5\\ngini = 0.346\\nsamples = 9\\nvalue = [0, 0, 2, 7, 0]'),\n",
       " Text(142.7016393442623, 108.72, 'gini = 0.0\\nsamples = 1\\nvalue = [0, 0, 1, 0, 0]'),\n",
       " Text(153.67868852459017, 108.72, 'X[30] <= 8.5\\ngini = 0.219\\nsamples = 8\\nvalue = [0, 0, 1, 7, 0]'),\n",
       " Text(148.19016393442624, 91.99384615384615, 'gini = 0.0\\nsamples = 1\\nvalue = [0, 0, 1, 0, 0]'),\n",
       " Text(159.1672131147541, 91.99384615384615, 'gini = 0.0\\nsamples = 7\\nvalue = [0, 0, 0, 7, 0]'),\n",
       " Text(181.12131147540984, 125.44615384615385, 'X[21] <= 2.5\\ngini = 0.346\\nsamples = 9\\nvalue = [0, 0, 7, 2, 0]'),\n",
       " Text(175.6327868852459, 108.72, 'X[7] <= 1.5\\ngini = 0.219\\nsamples = 8\\nvalue = [0, 0, 7, 1, 0]'),\n",
       " Text(170.14426229508197, 91.99384615384615, 'gini = 0.0\\nsamples = 6\\nvalue = [0, 0, 6, 0, 0]'),\n",
       " Text(181.12131147540984, 91.99384615384615, 'X[18] <= 3.5\\ngini = 0.5\\nsamples = 2\\nvalue = [0, 0, 1, 1, 0]'),\n",
       " Text(175.6327868852459, 75.2676923076923, 'gini = 0.0\\nsamples = 1\\nvalue = [0, 0, 0, 1, 0]'),\n",
       " Text(186.60983606557377, 75.2676923076923, 'gini = 0.0\\nsamples = 1\\nvalue = [0, 0, 1, 0, 0]'),\n",
       " Text(186.60983606557377, 108.72, 'gini = 0.0\\nsamples = 1\\nvalue = [0, 0, 0, 1, 0]'),\n",
       " Text(197.58688524590164, 142.1723076923077, 'X[18] <= 2.5\\ngini = 0.375\\nsamples = 8\\nvalue = [0, 2, 6, 0, 0]'),\n",
       " Text(192.0983606557377, 125.44615384615385, 'gini = 0.0\\nsamples = 5\\nvalue = [0, 0, 5, 0, 0]'),\n",
       " Text(203.07540983606557, 125.44615384615385, 'X[6] <= 2.5\\ngini = 0.444\\nsamples = 3\\nvalue = [0, 2, 1, 0, 0]'),\n",
       " Text(197.58688524590164, 108.72, 'gini = 0.0\\nsamples = 2\\nvalue = [0, 2, 0, 0, 0]'),\n",
       " Text(208.5639344262295, 108.72, 'gini = 0.0\\nsamples = 1\\nvalue = [0, 0, 1, 0, 0]'),\n",
       " Text(281.28688524590166, 175.62461538461537, 'X[31] <= 15.5\\ngini = 0.634\\nsamples = 95\\nvalue = [29, 45, 21, 0, 0]'),\n",
       " Text(255.21639344262294, 158.89846153846153, 'X[31] <= 13.5\\ngini = 0.54\\nsamples = 70\\nvalue = [7, 42, 21, 0, 0]'),\n",
       " Text(236.00655737704918, 142.1723076923077, 'X[28] <= 1.5\\ngini = 0.426\\nsamples = 26\\nvalue = [0, 8, 18, 0, 0]'),\n",
       " Text(225.0295081967213, 125.44615384615385, 'X[5] <= 1.5\\ngini = 0.48\\nsamples = 10\\nvalue = [0, 6, 4, 0, 0]'),\n",
       " Text(219.54098360655738, 108.72, 'gini = 0.0\\nsamples = 4\\nvalue = [0, 0, 4, 0, 0]'),\n",
       " Text(230.51803278688524, 108.72, 'gini = 0.0\\nsamples = 6\\nvalue = [0, 6, 0, 0, 0]'),\n",
       " Text(246.98360655737704, 125.44615384615385, 'X[29] <= 3.5\\ngini = 0.219\\nsamples = 16\\nvalue = [0, 2, 14, 0, 0]'),\n",
       " Text(241.4950819672131, 108.72, 'X[16] <= 0.5\\ngini = 0.444\\nsamples = 6\\nvalue = [0, 2, 4, 0, 0]'),\n",
       " Text(236.00655737704918, 91.99384615384615, 'gini = 0.0\\nsamples = 4\\nvalue = [0, 0, 4, 0, 0]'),\n",
       " Text(246.98360655737704, 91.99384615384615, 'gini = 0.0\\nsamples = 2\\nvalue = [0, 2, 0, 0, 0]'),\n",
       " Text(252.47213114754098, 108.72, 'gini = 0.0\\nsamples = 10\\nvalue = [0, 0, 10, 0, 0]'),\n",
       " Text(274.42622950819674, 142.1723076923077, 'X[6] <= 3.5\\ngini = 0.373\\nsamples = 44\\nvalue = [7, 34, 3, 0, 0]'),\n",
       " Text(268.9377049180328, 125.44615384615385, 'X[23] <= 18.0\\ngini = 0.297\\nsamples = 41\\nvalue = [4, 34, 3, 0, 0]'),\n",
       " Text(263.4491803278689, 108.72, 'X[27] <= 2.5\\ngini = 0.265\\nsamples = 40\\nvalue = [4, 34, 2, 0, 0]'),\n",
       " Text(257.96065573770494, 91.99384615384615, 'X[5] <= 3.5\\ngini = 0.229\\nsamples = 39\\nvalue = [4, 34, 1, 0, 0]'),\n",
       " Text(246.98360655737704, 75.2676923076923, 'X[28] <= 1.5\\ngini = 0.16\\nsamples = 35\\nvalue = [2, 32, 1, 0, 0]'),\n",
       " Text(241.4950819672131, 58.541538461538465, 'X[6] <= 2.5\\ngini = 0.379\\nsamples = 13\\nvalue = [2, 10, 1, 0, 0]'),\n",
       " Text(236.00655737704918, 41.81538461538463, 'gini = 0.0\\nsamples = 8\\nvalue = [0, 8, 0, 0, 0]'),\n",
       " Text(246.98360655737704, 41.81538461538463, 'X[26] <= 2.5\\ngini = 0.64\\nsamples = 5\\nvalue = [2, 2, 1, 0, 0]'),\n",
       " Text(241.4950819672131, 25.089230769230767, 'X[1] <= 0.5\\ngini = 0.444\\nsamples = 3\\nvalue = [0, 2, 1, 0, 0]'),\n",
       " Text(236.00655737704918, 8.363076923076932, 'gini = 0.0\\nsamples = 2\\nvalue = [0, 2, 0, 0, 0]'),\n",
       " Text(246.98360655737704, 8.363076923076932, 'gini = 0.0\\nsamples = 1\\nvalue = [0, 0, 1, 0, 0]'),\n",
       " Text(252.47213114754098, 25.089230769230767, 'gini = 0.0\\nsamples = 2\\nvalue = [2, 0, 0, 0, 0]'),\n",
       " Text(252.47213114754098, 58.541538461538465, 'gini = 0.0\\nsamples = 22\\nvalue = [0, 22, 0, 0, 0]'),\n",
       " Text(268.9377049180328, 75.2676923076923, 'X[7] <= 0.5\\ngini = 0.5\\nsamples = 4\\nvalue = [2, 2, 0, 0, 0]'),\n",
       " Text(263.4491803278689, 58.541538461538465, 'gini = 0.0\\nsamples = 2\\nvalue = [2, 0, 0, 0, 0]'),\n",
       " Text(274.42622950819674, 58.541538461538465, 'gini = 0.0\\nsamples = 2\\nvalue = [0, 2, 0, 0, 0]'),\n",
       " Text(268.9377049180328, 91.99384615384615, 'gini = 0.0\\nsamples = 1\\nvalue = [0, 0, 1, 0, 0]'),\n",
       " Text(274.42622950819674, 108.72, 'gini = 0.0\\nsamples = 1\\nvalue = [0, 0, 1, 0, 0]'),\n",
       " Text(279.9147540983607, 125.44615384615385, 'gini = 0.0\\nsamples = 3\\nvalue = [3, 0, 0, 0, 0]'),\n",
       " Text(307.35737704918034, 158.89846153846153, 'X[24] <= 2.5\\ngini = 0.211\\nsamples = 25\\nvalue = [22, 3, 0, 0, 0]'),\n",
       " Text(296.3803278688525, 142.1723076923077, 'X[7] <= 1.0\\ngini = 0.444\\nsamples = 3\\nvalue = [1, 2, 0, 0, 0]'),\n",
       " Text(290.89180327868854, 125.44615384615385, 'gini = 0.0\\nsamples = 1\\nvalue = [1, 0, 0, 0, 0]'),\n",
       " Text(301.8688524590164, 125.44615384615385, 'gini = 0.0\\nsamples = 2\\nvalue = [0, 2, 0, 0, 0]'),\n",
       " Text(318.3344262295082, 142.1723076923077, 'X[6] <= 3.5\\ngini = 0.087\\nsamples = 22\\nvalue = [21, 1, 0, 0, 0]'),\n",
       " Text(312.8459016393443, 125.44615384615385, 'gini = 0.0\\nsamples = 18\\nvalue = [18, 0, 0, 0, 0]'),\n",
       " Text(323.82295081967214, 125.44615384615385, 'X[20] <= 1.5\\ngini = 0.375\\nsamples = 4\\nvalue = [3, 1, 0, 0, 0]'),\n",
       " Text(318.3344262295082, 108.72, 'gini = 0.0\\nsamples = 3\\nvalue = [3, 0, 0, 0, 0]'),\n",
       " Text(329.3114754098361, 108.72, 'gini = 0.0\\nsamples = 1\\nvalue = [0, 1, 0, 0, 0]')]"
      ]
     },
     "execution_count": 9,
     "metadata": {},
     "output_type": "execute_result"
    },
    {
     "data": {
      "image/png": "[encoded data removed]",
      "text/plain": [
       "<Figure size 432x288 with 1 Axes>"
      ]
     },
     "metadata": {
      "needs_background": "light"
     },
     "output_type": "display_data"
    }
   ],
   "source": [
    "tree.plot_tree(decision_tree)"
   ]
  },
  {
   "cell_type": "markdown",
   "metadata": {},
   "source": [
    "# Using Different Attributes Set"
   ]
  },
  {
   "cell_type": "markdown",
   "metadata": {},
   "source": [
    "## Attribute Set A"
   ]
  },
  {
   "cell_type": "code",
   "execution_count": 10,
   "metadata": {},
   "outputs": [
    {
     "data": {
      "text/plain": [
       "array([[ 5,  5,  1,  0,  0],\n",
       "       [ 3,  9,  1,  0,  0],\n",
       "       [ 0,  2, 12,  5,  0],\n",
       "       [ 0,  1,  5, 19, 12],\n",
       "       [ 0,  0,  0,  6, 33]])"
      ]
     },
     "execution_count": 10,
     "metadata": {},
     "output_type": "execute_result"
    }
   ],
   "source": [
    "# split data to train and test data\n",
    "X_train, X_test, Y_train, Y_test = train_test_split(data_df[category_features + numeric_features + [\"G1\", \"G2\"]].values,\n",
    "                                                    data_df['GradeLevel'].astype('category').cat.codes,\n",
    "                                                    test_size=0.3,\n",
    "                                                    random_state=2)\n",
    "decision_tree = DecisionTreeClassifier().fit(X_train, Y_train)\n",
    "Y_pred = decision_tree.predict(X_test)\n",
    "confusion_matrix(Y_test, Y_pred)"
   ]
  },
  {
   "cell_type": "markdown",
   "metadata": {},
   "source": [
    "## Attribute Set B"
   ]
  },
  {
   "cell_type": "code",
   "execution_count": 11,
   "metadata": {},
   "outputs": [
    {
     "data": {
      "text/plain": [
       "array([[ 6,  3,  2,  0,  0],\n",
       "       [ 4,  2,  6,  1,  0],\n",
       "       [ 1,  6,  9,  2,  1],\n",
       "       [ 1,  4,  9, 15,  8],\n",
       "       [ 0,  0,  2,  9, 28]])"
      ]
     },
     "execution_count": 11,
     "metadata": {},
     "output_type": "execute_result"
    }
   ],
   "source": [
    "# split data to train and test data\n",
    "X_train, X_test, Y_train, Y_test = train_test_split(data_df[category_features + numeric_features + [\"G1\"]].values,\n",
    "                                                    data_df['GradeLevel'].astype('category').cat.codes,\n",
    "                                                    test_size=0.3,\n",
    "                                                    random_state=2)\n",
    "decision_tree = DecisionTreeClassifier().fit(X_train, Y_train)\n",
    "Y_pred = decision_tree.predict(X_test)\n",
    "confusion_matrix(Y_test, Y_pred)"
   ]
  },
  {
   "cell_type": "markdown",
   "metadata": {},
   "source": [
    "## Attribute Set C"
   ]
  },
  {
   "cell_type": "code",
   "execution_count": 12,
   "metadata": {},
   "outputs": [
    {
     "data": {
      "text/plain": [
       "array([[ 2,  3,  3,  0,  3],\n",
       "       [ 2,  1,  6,  1,  3],\n",
       "       [ 2,  1,  5,  4,  7],\n",
       "       [ 1,  6,  6,  9, 15],\n",
       "       [ 2,  5,  8,  8, 16]])"
      ]
     },
     "execution_count": 12,
     "metadata": {},
     "output_type": "execute_result"
    }
   ],
   "source": [
    "# split data to train and test data\n",
    "X_train, X_test, Y_train, Y_test = train_test_split(data_df[category_features + numeric_features].values,\n",
    "                                                    data_df['GradeLevel'].astype('category').cat.codes,\n",
    "                                                    test_size=0.3,\n",
    "                                                    random_state=2)\n",
    "decision_tree = DecisionTreeClassifier().fit(X_train, Y_train)\n",
    "Y_pred = decision_tree.predict(X_test)\n",
    "confusion_matrix(Y_test, Y_pred)"
   ]
  },
  {
   "cell_type": "code",
   "execution_count": null,
   "metadata": {},
   "outputs": [],
   "source": []
  }
 ],
 "metadata": {
  "kernelspec": {
   "display_name": "Python 3",
   "language": "python",
   "name": "python3"
  },
  "language_info": {
   "codemirror_mode": {
    "name": "ipython",
    "version": 3
   },
   "file_extension": ".py",
   "mimetype": "text/x-python",
   "name": "python",
   "nbconvert_exporter": "python",
   "pygments_lexer": "ipython3",
   "version": "3.8.3"
  }
 },
 "nbformat": 4,
 "nbformat_minor": 4
}
